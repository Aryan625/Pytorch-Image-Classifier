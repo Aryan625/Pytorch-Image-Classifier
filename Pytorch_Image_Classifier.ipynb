{
  "nbformat": 4,
  "nbformat_minor": 0,
  "metadata": {
    "colab": {
      "name": "Pytorch Image Classifier.ipynb",
      "provenance": [],
      "collapsed_sections": [],
      "authorship_tag": "ABX9TyP+FD+QGLVsWCyqXr0YPuSN",
      "include_colab_link": true
    },
    "kernelspec": {
      "name": "python3",
      "display_name": "Python 3"
    },
    "language_info": {
      "name": "python"
    },
    "accelerator": "GPU",
    "widgets": {
      "application/vnd.jupyter.widget-state+json": {
        "71ebd41d092f44bcac64a81f648b9c89": {
          "model_module": "@jupyter-widgets/controls",
          "model_name": "HBoxModel",
          "model_module_version": "1.5.0",
          "state": {
            "_view_name": "HBoxView",
            "_dom_classes": [],
            "_model_name": "HBoxModel",
            "_view_module": "@jupyter-widgets/controls",
            "_model_module_version": "1.5.0",
            "_view_count": null,
            "_view_module_version": "1.5.0",
            "box_style": "",
            "layout": "IPY_MODEL_b1d793c8881441e8af2f2853ff8394e9",
            "_model_module": "@jupyter-widgets/controls",
            "children": [
              "IPY_MODEL_43067f65c89f4583a5a895c8fee82fd2",
              "IPY_MODEL_39657dd5e995436b8774c2cabb9f79b2",
              "IPY_MODEL_18b6fbab230b471091e892f430328184"
            ]
          }
        },
        "b1d793c8881441e8af2f2853ff8394e9": {
          "model_module": "@jupyter-widgets/base",
          "model_name": "LayoutModel",
          "model_module_version": "1.2.0",
          "state": {
            "_view_name": "LayoutView",
            "grid_template_rows": null,
            "right": null,
            "justify_content": null,
            "_view_module": "@jupyter-widgets/base",
            "overflow": null,
            "_model_module_version": "1.2.0",
            "_view_count": null,
            "flex_flow": null,
            "width": null,
            "min_width": null,
            "border": null,
            "align_items": null,
            "bottom": null,
            "_model_module": "@jupyter-widgets/base",
            "top": null,
            "grid_column": null,
            "overflow_y": null,
            "overflow_x": null,
            "grid_auto_flow": null,
            "grid_area": null,
            "grid_template_columns": null,
            "flex": null,
            "_model_name": "LayoutModel",
            "justify_items": null,
            "grid_row": null,
            "max_height": null,
            "align_content": null,
            "visibility": null,
            "align_self": null,
            "height": null,
            "min_height": null,
            "padding": null,
            "grid_auto_rows": null,
            "grid_gap": null,
            "max_width": null,
            "order": null,
            "_view_module_version": "1.2.0",
            "grid_template_areas": null,
            "object_position": null,
            "object_fit": null,
            "grid_auto_columns": null,
            "margin": null,
            "display": null,
            "left": null
          }
        },
        "43067f65c89f4583a5a895c8fee82fd2": {
          "model_module": "@jupyter-widgets/controls",
          "model_name": "HTMLModel",
          "model_module_version": "1.5.0",
          "state": {
            "_view_name": "HTMLView",
            "style": "IPY_MODEL_411e4acae9a8418eb6ab3267ea3fab14",
            "_dom_classes": [],
            "description": "",
            "_model_name": "HTMLModel",
            "placeholder": "​",
            "_view_module": "@jupyter-widgets/controls",
            "_model_module_version": "1.5.0",
            "value": "",
            "_view_count": null,
            "_view_module_version": "1.5.0",
            "description_tooltip": null,
            "_model_module": "@jupyter-widgets/controls",
            "layout": "IPY_MODEL_dae2c3934d5b46d39c08fec790424647"
          }
        },
        "39657dd5e995436b8774c2cabb9f79b2": {
          "model_module": "@jupyter-widgets/controls",
          "model_name": "FloatProgressModel",
          "model_module_version": "1.5.0",
          "state": {
            "_view_name": "ProgressView",
            "style": "IPY_MODEL_61120d46046f4390a816c11896fcebd0",
            "_dom_classes": [],
            "description": "",
            "_model_name": "FloatProgressModel",
            "bar_style": "success",
            "max": 170498071,
            "_view_module": "@jupyter-widgets/controls",
            "_model_module_version": "1.5.0",
            "value": 170498071,
            "_view_count": null,
            "_view_module_version": "1.5.0",
            "orientation": "horizontal",
            "min": 0,
            "description_tooltip": null,
            "_model_module": "@jupyter-widgets/controls",
            "layout": "IPY_MODEL_67c6b42f8a7d4db88cdeae84ef95f20f"
          }
        },
        "18b6fbab230b471091e892f430328184": {
          "model_module": "@jupyter-widgets/controls",
          "model_name": "HTMLModel",
          "model_module_version": "1.5.0",
          "state": {
            "_view_name": "HTMLView",
            "style": "IPY_MODEL_6ccdf533d29d44168283eb224ad8aa4d",
            "_dom_classes": [],
            "description": "",
            "_model_name": "HTMLModel",
            "placeholder": "​",
            "_view_module": "@jupyter-widgets/controls",
            "_model_module_version": "1.5.0",
            "value": " 170499072/? [00:06&lt;00:00, 46138887.77it/s]",
            "_view_count": null,
            "_view_module_version": "1.5.0",
            "description_tooltip": null,
            "_model_module": "@jupyter-widgets/controls",
            "layout": "IPY_MODEL_72f0a0dbc5d44ca09f4932dcda963691"
          }
        },
        "411e4acae9a8418eb6ab3267ea3fab14": {
          "model_module": "@jupyter-widgets/controls",
          "model_name": "DescriptionStyleModel",
          "model_module_version": "1.5.0",
          "state": {
            "_view_name": "StyleView",
            "_model_name": "DescriptionStyleModel",
            "description_width": "",
            "_view_module": "@jupyter-widgets/base",
            "_model_module_version": "1.5.0",
            "_view_count": null,
            "_view_module_version": "1.2.0",
            "_model_module": "@jupyter-widgets/controls"
          }
        },
        "dae2c3934d5b46d39c08fec790424647": {
          "model_module": "@jupyter-widgets/base",
          "model_name": "LayoutModel",
          "model_module_version": "1.2.0",
          "state": {
            "_view_name": "LayoutView",
            "grid_template_rows": null,
            "right": null,
            "justify_content": null,
            "_view_module": "@jupyter-widgets/base",
            "overflow": null,
            "_model_module_version": "1.2.0",
            "_view_count": null,
            "flex_flow": null,
            "width": null,
            "min_width": null,
            "border": null,
            "align_items": null,
            "bottom": null,
            "_model_module": "@jupyter-widgets/base",
            "top": null,
            "grid_column": null,
            "overflow_y": null,
            "overflow_x": null,
            "grid_auto_flow": null,
            "grid_area": null,
            "grid_template_columns": null,
            "flex": null,
            "_model_name": "LayoutModel",
            "justify_items": null,
            "grid_row": null,
            "max_height": null,
            "align_content": null,
            "visibility": null,
            "align_self": null,
            "height": null,
            "min_height": null,
            "padding": null,
            "grid_auto_rows": null,
            "grid_gap": null,
            "max_width": null,
            "order": null,
            "_view_module_version": "1.2.0",
            "grid_template_areas": null,
            "object_position": null,
            "object_fit": null,
            "grid_auto_columns": null,
            "margin": null,
            "display": null,
            "left": null
          }
        },
        "61120d46046f4390a816c11896fcebd0": {
          "model_module": "@jupyter-widgets/controls",
          "model_name": "ProgressStyleModel",
          "model_module_version": "1.5.0",
          "state": {
            "_view_name": "StyleView",
            "_model_name": "ProgressStyleModel",
            "description_width": "",
            "_view_module": "@jupyter-widgets/base",
            "_model_module_version": "1.5.0",
            "_view_count": null,
            "_view_module_version": "1.2.0",
            "bar_color": null,
            "_model_module": "@jupyter-widgets/controls"
          }
        },
        "67c6b42f8a7d4db88cdeae84ef95f20f": {
          "model_module": "@jupyter-widgets/base",
          "model_name": "LayoutModel",
          "model_module_version": "1.2.0",
          "state": {
            "_view_name": "LayoutView",
            "grid_template_rows": null,
            "right": null,
            "justify_content": null,
            "_view_module": "@jupyter-widgets/base",
            "overflow": null,
            "_model_module_version": "1.2.0",
            "_view_count": null,
            "flex_flow": null,
            "width": null,
            "min_width": null,
            "border": null,
            "align_items": null,
            "bottom": null,
            "_model_module": "@jupyter-widgets/base",
            "top": null,
            "grid_column": null,
            "overflow_y": null,
            "overflow_x": null,
            "grid_auto_flow": null,
            "grid_area": null,
            "grid_template_columns": null,
            "flex": null,
            "_model_name": "LayoutModel",
            "justify_items": null,
            "grid_row": null,
            "max_height": null,
            "align_content": null,
            "visibility": null,
            "align_self": null,
            "height": null,
            "min_height": null,
            "padding": null,
            "grid_auto_rows": null,
            "grid_gap": null,
            "max_width": null,
            "order": null,
            "_view_module_version": "1.2.0",
            "grid_template_areas": null,
            "object_position": null,
            "object_fit": null,
            "grid_auto_columns": null,
            "margin": null,
            "display": null,
            "left": null
          }
        },
        "6ccdf533d29d44168283eb224ad8aa4d": {
          "model_module": "@jupyter-widgets/controls",
          "model_name": "DescriptionStyleModel",
          "model_module_version": "1.5.0",
          "state": {
            "_view_name": "StyleView",
            "_model_name": "DescriptionStyleModel",
            "description_width": "",
            "_view_module": "@jupyter-widgets/base",
            "_model_module_version": "1.5.0",
            "_view_count": null,
            "_view_module_version": "1.2.0",
            "_model_module": "@jupyter-widgets/controls"
          }
        },
        "72f0a0dbc5d44ca09f4932dcda963691": {
          "model_module": "@jupyter-widgets/base",
          "model_name": "LayoutModel",
          "model_module_version": "1.2.0",
          "state": {
            "_view_name": "LayoutView",
            "grid_template_rows": null,
            "right": null,
            "justify_content": null,
            "_view_module": "@jupyter-widgets/base",
            "overflow": null,
            "_model_module_version": "1.2.0",
            "_view_count": null,
            "flex_flow": null,
            "width": null,
            "min_width": null,
            "border": null,
            "align_items": null,
            "bottom": null,
            "_model_module": "@jupyter-widgets/base",
            "top": null,
            "grid_column": null,
            "overflow_y": null,
            "overflow_x": null,
            "grid_auto_flow": null,
            "grid_area": null,
            "grid_template_columns": null,
            "flex": null,
            "_model_name": "LayoutModel",
            "justify_items": null,
            "grid_row": null,
            "max_height": null,
            "align_content": null,
            "visibility": null,
            "align_self": null,
            "height": null,
            "min_height": null,
            "padding": null,
            "grid_auto_rows": null,
            "grid_gap": null,
            "max_width": null,
            "order": null,
            "_view_module_version": "1.2.0",
            "grid_template_areas": null,
            "object_position": null,
            "object_fit": null,
            "grid_auto_columns": null,
            "margin": null,
            "display": null,
            "left": null
          }
        }
      }
    }
  },
  "cells": [
    {
      "cell_type": "markdown",
      "metadata": {
        "id": "view-in-github",
        "colab_type": "text"
      },
      "source": [
        "<a href=\"https://colab.research.google.com/github/Aryan625/Pytorch-Image-Classifier/blob/main/Pytorch_Image_Classifier.ipynb\" target=\"_parent\"><img src=\"https://colab.research.google.com/assets/colab-badge.svg\" alt=\"Open In Colab\"/></a>"
      ]
    },
    {
      "cell_type": "code",
      "execution_count": null,
      "metadata": {
        "colab": {
          "base_uri": "https://localhost:8080/"
        },
        "id": "aeutJkeUr0W-",
        "outputId": "e1fd7f25-38fb-44ce-88b5-392abf4de2c0"
      },
      "outputs": [
        {
          "output_type": "stream",
          "name": "stdout",
          "text": [
            "Looking in links: https://download.pytorch.org/whl/cu113/torch_stable.html\n",
            "Collecting torch==1.10.2+cu113\n",
            "  Downloading https://download.pytorch.org/whl/cu113/torch-1.10.2%2Bcu113-cp37-cp37m-linux_x86_64.whl (1821.4 MB)\n",
            "\u001b[K     |██████████████▋                 | 834.1 MB 1.3 MB/s eta 0:12:20tcmalloc: large alloc 1147494400 bytes == 0x55b591384000 @  0x7fa7731cf615 0x55b55706e3bc 0x55b55714f18a 0x55b5570711cd 0x55b557163b3d 0x55b5570e5458 0x55b5570e002f 0x55b557072aba 0x55b5570e52c0 0x55b5570e002f 0x55b557072aba 0x55b5570e1cd4 0x55b557164986 0x55b5570e1350 0x55b557164986 0x55b5570e1350 0x55b557164986 0x55b5570e1350 0x55b557072f19 0x55b5570b6a79 0x55b557071b32 0x55b5570e51dd 0x55b5570e002f 0x55b557072aba 0x55b5570e1cd4 0x55b5570e002f 0x55b557072aba 0x55b5570e0eae 0x55b5570729da 0x55b5570e1108 0x55b5570e002f\n",
            "\u001b[K     |██████████████████▌             | 1055.7 MB 1.3 MB/s eta 0:09:49tcmalloc: large alloc 1434370048 bytes == 0x55b5d59da000 @  0x7fa7731cf615 0x55b55706e3bc 0x55b55714f18a 0x55b5570711cd 0x55b557163b3d 0x55b5570e5458 0x55b5570e002f 0x55b557072aba 0x55b5570e52c0 0x55b5570e002f 0x55b557072aba 0x55b5570e1cd4 0x55b557164986 0x55b5570e1350 0x55b557164986 0x55b5570e1350 0x55b557164986 0x55b5570e1350 0x55b557072f19 0x55b5570b6a79 0x55b557071b32 0x55b5570e51dd 0x55b5570e002f 0x55b557072aba 0x55b5570e1cd4 0x55b5570e002f 0x55b557072aba 0x55b5570e0eae 0x55b5570729da 0x55b5570e1108 0x55b5570e002f\n",
            "\u001b[K     |███████████████████████▌        | 1336.2 MB 1.2 MB/s eta 0:06:43tcmalloc: large alloc 1792966656 bytes == 0x55b55a80c000 @  0x7fa7731cf615 0x55b55706e3bc 0x55b55714f18a 0x55b5570711cd 0x55b557163b3d 0x55b5570e5458 0x55b5570e002f 0x55b557072aba 0x55b5570e52c0 0x55b5570e002f 0x55b557072aba 0x55b5570e1cd4 0x55b557164986 0x55b5570e1350 0x55b557164986 0x55b5570e1350 0x55b557164986 0x55b5570e1350 0x55b557072f19 0x55b5570b6a79 0x55b557071b32 0x55b5570e51dd 0x55b5570e002f 0x55b557072aba 0x55b5570e1cd4 0x55b5570e002f 0x55b557072aba 0x55b5570e0eae 0x55b5570729da 0x55b5570e1108 0x55b5570e002f\n",
            "\u001b[K     |█████████████████████████████▊  | 1691.1 MB 1.2 MB/s eta 0:01:52tcmalloc: large alloc 2241208320 bytes == 0x55b5c55f4000 @  0x7fa7731cf615 0x55b55706e3bc 0x55b55714f18a 0x55b5570711cd 0x55b557163b3d 0x55b5570e5458 0x55b5570e002f 0x55b557072aba 0x55b5570e52c0 0x55b5570e002f 0x55b557072aba 0x55b5570e1cd4 0x55b557164986 0x55b5570e1350 0x55b557164986 0x55b5570e1350 0x55b557164986 0x55b5570e1350 0x55b557072f19 0x55b5570b6a79 0x55b557071b32 0x55b5570e51dd 0x55b5570e002f 0x55b557072aba 0x55b5570e1cd4 0x55b5570e002f 0x55b557072aba 0x55b5570e0eae 0x55b5570729da 0x55b5570e1108 0x55b5570e002f\n",
            "\u001b[K     |████████████████████████████████| 1821.4 MB 1.1 MB/s eta 0:00:01tcmalloc: large alloc 1821433856 bytes == 0x55b64af56000 @  0x7fa7731ce1e7 0x55b5570a45d7 0x55b55706e3bc 0x55b55714f18a 0x55b5570711cd 0x55b557163b3d 0x55b5570e5458 0x55b5570e002f 0x55b557072aba 0x55b5570e1108 0x55b5570e002f 0x55b557072aba 0x55b5570e1108 0x55b5570e002f 0x55b557072aba 0x55b5570e1108 0x55b5570e002f 0x55b557072aba 0x55b5570e1108 0x55b5570e002f 0x55b557072aba 0x55b5570e1108 0x55b5570729da 0x55b5570e1108 0x55b5570e002f 0x55b557072aba 0x55b5570e1cd4 0x55b5570e002f 0x55b557072aba 0x55b5570e1cd4 0x55b5570e002f\n",
            "tcmalloc: large alloc 2276794368 bytes == 0x55b6b7864000 @  0x7fa7731cf615 0x55b55706e3bc 0x55b55714f18a 0x55b5570711cd 0x55b557163b3d 0x55b5570e5458 0x55b5570e002f 0x55b557072aba 0x55b5570e1108 0x55b5570e002f 0x55b557072aba 0x55b5570e1108 0x55b5570e002f 0x55b557072aba 0x55b5570e1108 0x55b5570e002f 0x55b557072aba 0x55b5570e1108 0x55b5570e002f 0x55b557072aba 0x55b5570e1108 0x55b5570729da 0x55b5570e1108 0x55b5570e002f 0x55b557072aba 0x55b5570e1cd4 0x55b5570e002f 0x55b557072aba 0x55b5570e1cd4 0x55b5570e002f 0x55b557073151\n",
            "\u001b[K     |████████████████████████████████| 1821.4 MB 2.3 kB/s \n",
            "\u001b[?25hCollecting torchvision==0.11.3+cu113\n",
            "  Downloading https://download.pytorch.org/whl/cu113/torchvision-0.11.3%2Bcu113-cp37-cp37m-linux_x86_64.whl (24.5 MB)\n",
            "\u001b[K     |████████████████████████████████| 24.5 MB 1.4 MB/s \n",
            "\u001b[?25hCollecting torchaudio==0.10.2+cu113\n",
            "  Downloading https://download.pytorch.org/whl/cu113/torchaudio-0.10.2%2Bcu113-cp37-cp37m-linux_x86_64.whl (2.9 MB)\n",
            "\u001b[K     |████████████████████████████████| 2.9 MB 44.1 MB/s \n",
            "\u001b[?25hRequirement already satisfied: typing-extensions in /usr/local/lib/python3.7/dist-packages (from torch==1.10.2+cu113) (3.10.0.2)\n",
            "Requirement already satisfied: numpy in /usr/local/lib/python3.7/dist-packages (from torchvision==0.11.3+cu113) (1.19.5)\n",
            "Requirement already satisfied: pillow!=8.3.0,>=5.3.0 in /usr/local/lib/python3.7/dist-packages (from torchvision==0.11.3+cu113) (7.1.2)\n",
            "Installing collected packages: torch, torchvision, torchaudio\n",
            "  Attempting uninstall: torch\n",
            "    Found existing installation: torch 1.10.0+cu111\n",
            "    Uninstalling torch-1.10.0+cu111:\n",
            "      Successfully uninstalled torch-1.10.0+cu111\n",
            "  Attempting uninstall: torchvision\n",
            "    Found existing installation: torchvision 0.11.1+cu111\n",
            "    Uninstalling torchvision-0.11.1+cu111:\n",
            "      Successfully uninstalled torchvision-0.11.1+cu111\n",
            "  Attempting uninstall: torchaudio\n",
            "    Found existing installation: torchaudio 0.10.0+cu111\n",
            "    Uninstalling torchaudio-0.10.0+cu111:\n",
            "      Successfully uninstalled torchaudio-0.10.0+cu111\n",
            "\u001b[31mERROR: pip's dependency resolver does not currently take into account all the packages that are installed. This behaviour is the source of the following dependency conflicts.\n",
            "torchtext 0.11.0 requires torch==1.10.0, but you have torch 1.10.2+cu113 which is incompatible.\u001b[0m\n",
            "Successfully installed torch-1.10.2+cu113 torchaudio-0.10.2+cu113 torchvision-0.11.3+cu113\n"
          ]
        }
      ],
      "source": [
        "!pip3 install torch==1.10.2+cu113 torchvision==0.11.3+cu113 torchaudio==0.10.2+cu113 -f https://download.pytorch.org/whl/cu113/torch_stable.html"
      ]
    },
    {
      "cell_type": "code",
      "source": [
        "import torch\n",
        "import torch.nn as nn\n",
        "import torch.nn.functional as F\n",
        "import torchvision\n",
        "import torchvision.transforms as transforms\n",
        "import torch.optim.lr_scheduler as lr_scheduler\n",
        "import matplotlib.pyplot as plt\n",
        "import numpy as np"
      ],
      "metadata": {
        "id": "ByLp_erVscwR"
      },
      "execution_count": null,
      "outputs": []
    },
    {
      "cell_type": "code",
      "source": [
        "# device config\n",
        "device = torch.device('cuda' if torch.cuda.is_available() else 'cpu')\n",
        "device"
      ],
      "metadata": {
        "colab": {
          "base_uri": "https://localhost:8080/"
        },
        "id": "MJRbUBhi8OX0",
        "outputId": "e3ca4a70-b59c-4b57-a89b-fa9b42c961f6"
      },
      "execution_count": null,
      "outputs": [
        {
          "output_type": "execute_result",
          "data": {
            "text/plain": [
              "device(type='cuda')"
            ]
          },
          "metadata": {},
          "execution_count": 3
        }
      ]
    },
    {
      "cell_type": "code",
      "source": [
        "#hyperparameters\n",
        "num_epochs = 100\n",
        "batch_size = 16\n",
        "learning_rate = 0.001"
      ],
      "metadata": {
        "id": "sWQd6hmZsc1U"
      },
      "execution_count": null,
      "outputs": []
    },
    {
      "cell_type": "code",
      "source": [
        "#dataset has PIL images of range[0, 1]. We transform them to tensor of normalized range[-1, 1]\n",
        "transform = transforms.Compose([transforms.ToTensor(),\n",
        "                                transforms.Normalize((0.5, 0.5, 0.5), (0.5, 0.5, 0.5))])"
      ],
      "metadata": {
        "id": "gd23Ee6Ysc6g"
      },
      "execution_count": null,
      "outputs": []
    },
    {
      "cell_type": "code",
      "source": [
        "#CIFAR10\n",
        "train_dataset = torchvision.datasets.CIFAR10(root='./data', train=True, transform=transform, download=True)\n",
        "test_dataset = torchvision.datasets.CIFAR10(root='./data', train=False, transform=transform)"
      ],
      "metadata": {
        "colab": {
          "base_uri": "https://localhost:8080/",
          "height": 85,
          "referenced_widgets": [
            "71ebd41d092f44bcac64a81f648b9c89",
            "b1d793c8881441e8af2f2853ff8394e9",
            "43067f65c89f4583a5a895c8fee82fd2",
            "39657dd5e995436b8774c2cabb9f79b2",
            "18b6fbab230b471091e892f430328184",
            "411e4acae9a8418eb6ab3267ea3fab14",
            "dae2c3934d5b46d39c08fec790424647",
            "61120d46046f4390a816c11896fcebd0",
            "67c6b42f8a7d4db88cdeae84ef95f20f",
            "6ccdf533d29d44168283eb224ad8aa4d",
            "72f0a0dbc5d44ca09f4932dcda963691"
          ]
        },
        "id": "olIiOk8Fsc9H",
        "outputId": "fd2cc012-1151-4afa-f886-ca775882e226"
      },
      "execution_count": null,
      "outputs": [
        {
          "output_type": "stream",
          "name": "stdout",
          "text": [
            "Downloading https://www.cs.toronto.edu/~kriz/cifar-10-python.tar.gz to ./data/cifar-10-python.tar.gz\n"
          ]
        },
        {
          "output_type": "display_data",
          "data": {
            "application/vnd.jupyter.widget-view+json": {
              "model_id": "71ebd41d092f44bcac64a81f648b9c89",
              "version_minor": 0,
              "version_major": 2
            },
            "text/plain": [
              "  0%|          | 0/170498071 [00:00<?, ?it/s]"
            ]
          },
          "metadata": {}
        },
        {
          "output_type": "stream",
          "name": "stdout",
          "text": [
            "Extracting ./data/cifar-10-python.tar.gz to ./data\n"
          ]
        }
      ]
    },
    {
      "cell_type": "code",
      "source": [
        "train_loader = torch.utils.data.DataLoader(train_dataset, batch_size=batch_size, shuffle=True, num_workers=2)\n",
        "test_loader = torch.utils.data.DataLoader(test_dataset, batch_size=batch_size, shuffle=False, num_workers=2)"
      ],
      "metadata": {
        "id": "HA8v6ksasc_3"
      },
      "execution_count": null,
      "outputs": []
    },
    {
      "cell_type": "code",
      "source": [
        "classes = ('plane', 'car', 'bird', 'cat',\n",
        "           'deer', 'dog', 'frog', 'horse', 'ship', 'truck')"
      ],
      "metadata": {
        "id": "VedfLm4VsdCg"
      },
      "execution_count": null,
      "outputs": []
    },
    {
      "cell_type": "code",
      "source": [
        "def imshow(img):\n",
        "    img = img / 2 + 0.5     # unnormalize\n",
        "    npimg = img.numpy()\n",
        "    plt.imshow(np.transpose(npimg, (1, 2, 0)))\n",
        "    plt.show()\n",
        "\n",
        "\n",
        "# get some random training images\n",
        "examples = iter(train_loader)\n",
        "images, labels = examples.next()\n",
        "\n",
        "# show images\n",
        "imshow(torchvision.utils.make_grid(images))\n",
        "# print labels\n",
        "print(', '.join(f'{classes[labels[j]]}' for j in range(batch_size)))"
      ],
      "metadata": {
        "colab": {
          "base_uri": "https://localhost:8080/",
          "height": 155
        },
        "id": "D32GN0jYsdFO",
        "outputId": "2fb1dfe1-fa2a-48b4-f9c8-c6fe44bdf59d"
      },
      "execution_count": null,
      "outputs": [
        {
          "output_type": "display_data",
          "data": {
            "image/png": "[encoded data removed]",
            "text/plain": [
              "<Figure size 432x288 with 1 Axes>"
            ]
          },
          "metadata": {
            "needs_background": "light"
          }
        },
        {
          "output_type": "stream",
          "name": "stdout",
          "text": [
            "cat, horse, frog, cat, car, frog, frog, cat, truck, ship, truck, ship, cat, truck, car, ship\n"
          ]
        }
      ]
    },
    {
      "cell_type": "code",
      "source": [
        "# model\n",
        "class ConvNet(nn.Module):\n",
        "  def __init__(self):\n",
        "    super(ConvNet, self).__init__()\n",
        "    self.conv1 = nn.Conv2d(3, 32, 3, padding='same')\n",
        "    self.conv2 = nn.Conv2d(32, 32, 3, padding='same')\n",
        "    self.conv3 = nn.Conv2d(32, 64, 3, padding='same')\n",
        "    self.conv4 = nn.Conv2d(64, 64, 3, padding='same')\n",
        "    self.conv5 = nn.Conv2d(64, 128, 3, padding='same')\n",
        "    self.conv6 = nn.Conv2d(128, 128, 3, padding='same')\n",
        "    self.pool = nn.MaxPool2d(2, 2)\n",
        "    self.drop = nn.Dropout(0.2)\n",
        "    self.fc1 = nn.Linear(128 * 4 * 4, 128)\n",
        "    # self.fc2 = nn.Linear(128, 10)\n",
        "\n",
        "  def forward(self, x):\n",
        "    x = F.relu(self.conv1(x))\n",
        "    x = self.drop(self.pool(F.relu(self.conv2(x))))\n",
        "    x = F.relu(self.conv3(x))\n",
        "    x = self.drop(self.pool(F.relu(self.conv4(x))))\n",
        "    x = F.relu(self.conv5(x))\n",
        "    x = self.drop(self.pool(F.relu(self.conv6(x))))\n",
        "    x = torch.flatten(x, 1)\n",
        "    x = F.relu(self.fc1(x))\n",
        "    # x = self.fc2(x)\n",
        "    return x\n",
        "\n",
        "model = ConvNet()\n",
        "model.to(device)"
      ],
      "metadata": {
        "colab": {
          "base_uri": "https://localhost:8080/"
        },
        "id": "9K9jaKTzsdH_",
        "outputId": "5c87c926-d9d3-4ed1-9fe7-35067535061e"
      },
      "execution_count": null,
      "outputs": [
        {
          "output_type": "execute_result",
          "data": {
            "text/plain": [
              "ConvNet(\n",
              "  (conv1): Conv2d(3, 32, kernel_size=(3, 3), stride=(1, 1), padding=same)\n",
              "  (conv2): Conv2d(32, 32, kernel_size=(3, 3), stride=(1, 1), padding=same)\n",
              "  (conv3): Conv2d(32, 64, kernel_size=(3, 3), stride=(1, 1), padding=same)\n",
              "  (conv4): Conv2d(64, 64, kernel_size=(3, 3), stride=(1, 1), padding=same)\n",
              "  (conv5): Conv2d(64, 128, kernel_size=(3, 3), stride=(1, 1), padding=same)\n",
              "  (conv6): Conv2d(128, 128, kernel_size=(3, 3), stride=(1, 1), padding=same)\n",
              "  (pool): MaxPool2d(kernel_size=2, stride=2, padding=0, dilation=1, ceil_mode=False)\n",
              "  (drop): Dropout(p=0.2, inplace=False)\n",
              "  (fc1): Linear(in_features=2048, out_features=128, bias=True)\n",
              ")"
            ]
          },
          "metadata": {},
          "execution_count": 10
        }
      ]
    },
    {
      "cell_type": "code",
      "source": [
        "#loss and optimizer\n",
        "criterion = nn.CrossEntropyLoss()\n",
        "optimizer = torch.optim.SGD(model.parameters(), lr=learning_rate, momentum=0.9)"
      ],
      "metadata": {
        "id": "GLwBntgRsdNX"
      },
      "execution_count": null,
      "outputs": []
    },
    {
      "cell_type": "code",
      "source": [
        "n_total_steps = len(train_loader)\n",
        "n_total_steps"
      ],
      "metadata": {
        "colab": {
          "base_uri": "https://localhost:8080/"
        },
        "id": "Ydxf6j48loas",
        "outputId": "47f65fb8-f88c-4b58-cec0-4f85b33c8d8b"
      },
      "execution_count": null,
      "outputs": [
        {
          "output_type": "execute_result",
          "data": {
            "text/plain": [
              "3125"
            ]
          },
          "metadata": {},
          "execution_count": 12
        }
      ]
    },
    {
      "cell_type": "code",
      "source": [
        "#training loop\n",
        "for epoch in range(num_epochs):\n",
        "  for i, (images, labels) in enumerate(train_loader):\n",
        "    images = images.to(device)\n",
        "    labels = labels.to(device)\n",
        "\n",
        "    #forward\n",
        "    outputs = model(images)\n",
        "    loss = criterion(outputs, labels)\n",
        "\n",
        "    #backward\n",
        "    loss.backward()\n",
        "    optimizer.step()\n",
        "    optimizer.zero_grad()\n",
        "\n",
        "    if (i+1) % 1000 == 0:\n",
        "      print(f'epoch {epoch+1}/{num_epochs}, step {i+1}/{n_total_steps}, loss = {loss.item():.4f}')\n",
        "print('Finished Training')"
      ],
      "metadata": {
        "colab": {
          "base_uri": "https://localhost:8080/"
        },
        "id": "N8Jw3VJ1sdUP",
        "outputId": "4d705535-1c51-417c-b214-381abd9cc334"
      },
      "execution_count": null,
      "outputs": [
        {
          "output_type": "stream",
          "name": "stdout",
          "text": [
            "epoch 1/100, step 1000/3125, loss = 2.1016\n",
            "epoch 1/100, step 2000/3125, loss = 1.6580\n",
            "epoch 1/100, step 3000/3125, loss = 1.5659\n",
            "epoch 2/100, step 1000/3125, loss = 1.2863\n",
            "epoch 2/100, step 2000/3125, loss = 1.7279\n",
            "epoch 2/100, step 3000/3125, loss = 1.3544\n",
            "epoch 3/100, step 1000/3125, loss = 1.1456\n",
            "epoch 3/100, step 2000/3125, loss = 1.0728\n",
            "epoch 3/100, step 3000/3125, loss = 0.7411\n",
            "epoch 4/100, step 1000/3125, loss = 0.5589\n",
            "epoch 4/100, step 2000/3125, loss = 1.4364\n",
            "epoch 4/100, step 3000/3125, loss = 1.4380\n",
            "epoch 5/100, step 1000/3125, loss = 0.9294\n",
            "epoch 5/100, step 2000/3125, loss = 1.0357\n",
            "epoch 5/100, step 3000/3125, loss = 0.8876\n",
            "epoch 6/100, step 1000/3125, loss = 0.8371\n",
            "epoch 6/100, step 2000/3125, loss = 0.9289\n",
            "epoch 6/100, step 3000/3125, loss = 0.4739\n",
            "epoch 7/100, step 1000/3125, loss = 1.3834\n",
            "epoch 7/100, step 2000/3125, loss = 0.6098\n",
            "epoch 7/100, step 3000/3125, loss = 0.9672\n",
            "epoch 8/100, step 1000/3125, loss = 0.6798\n",
            "epoch 8/100, step 2000/3125, loss = 0.9342\n",
            "epoch 8/100, step 3000/3125, loss = 1.3846\n",
            "epoch 9/100, step 1000/3125, loss = 0.8648\n",
            "epoch 9/100, step 2000/3125, loss = 0.3394\n",
            "epoch 9/100, step 3000/3125, loss = 0.8559\n",
            "epoch 10/100, step 1000/3125, loss = 0.7102\n",
            "epoch 10/100, step 2000/3125, loss = 0.1633\n",
            "epoch 10/100, step 3000/3125, loss = 0.6608\n",
            "epoch 11/100, step 1000/3125, loss = 0.9395\n",
            "epoch 11/100, step 2000/3125, loss = 0.5169\n",
            "epoch 11/100, step 3000/3125, loss = 1.0166\n",
            "epoch 12/100, step 1000/3125, loss = 0.8214\n",
            "epoch 12/100, step 2000/3125, loss = 0.3219\n",
            "epoch 12/100, step 3000/3125, loss = 0.5225\n",
            "epoch 13/100, step 1000/3125, loss = 0.9976\n",
            "epoch 13/100, step 2000/3125, loss = 0.7559\n",
            "epoch 13/100, step 3000/3125, loss = 0.2617\n",
            "epoch 14/100, step 1000/3125, loss = 0.5936\n",
            "epoch 14/100, step 2000/3125, loss = 0.9426\n",
            "epoch 14/100, step 3000/3125, loss = 0.4247\n",
            "epoch 15/100, step 1000/3125, loss = 0.8253\n",
            "epoch 15/100, step 2000/3125, loss = 1.0831\n",
            "epoch 15/100, step 3000/3125, loss = 0.4673\n",
            "epoch 16/100, step 1000/3125, loss = 0.2759\n",
            "epoch 16/100, step 2000/3125, loss = 0.4950\n",
            "epoch 16/100, step 3000/3125, loss = 1.2078\n",
            "epoch 17/100, step 1000/3125, loss = 0.5866\n",
            "epoch 17/100, step 2000/3125, loss = 0.3082\n",
            "epoch 17/100, step 3000/3125, loss = 0.0996\n",
            "epoch 18/100, step 1000/3125, loss = 0.8986\n",
            "epoch 18/100, step 2000/3125, loss = 0.2362\n",
            "epoch 18/100, step 3000/3125, loss = 0.7440\n",
            "epoch 19/100, step 1000/3125, loss = 0.2659\n",
            "epoch 19/100, step 2000/3125, loss = 0.7772\n",
            "epoch 19/100, step 3000/3125, loss = 0.3391\n",
            "epoch 20/100, step 1000/3125, loss = 0.7419\n",
            "epoch 20/100, step 2000/3125, loss = 0.1418\n",
            "epoch 20/100, step 3000/3125, loss = 0.3796\n",
            "epoch 21/100, step 1000/3125, loss = 0.1212\n",
            "epoch 21/100, step 2000/3125, loss = 0.7573\n",
            "epoch 21/100, step 3000/3125, loss = 1.0618\n",
            "epoch 22/100, step 1000/3125, loss = 0.2079\n",
            "epoch 22/100, step 2000/3125, loss = 0.5251\n",
            "epoch 22/100, step 3000/3125, loss = 0.5256\n",
            "epoch 23/100, step 1000/3125, loss = 0.3330\n",
            "epoch 23/100, step 2000/3125, loss = 0.4936\n",
            "epoch 23/100, step 3000/3125, loss = 0.1340\n",
            "epoch 24/100, step 1000/3125, loss = 0.1374\n",
            "epoch 24/100, step 2000/3125, loss = 0.0645\n",
            "epoch 24/100, step 3000/3125, loss = 0.4923\n",
            "epoch 25/100, step 1000/3125, loss = 0.0658\n",
            "epoch 25/100, step 2000/3125, loss = 0.7248\n",
            "epoch 25/100, step 3000/3125, loss = 0.0929\n",
            "epoch 26/100, step 1000/3125, loss = 0.2353\n",
            "epoch 26/100, step 2000/3125, loss = 0.0775\n",
            "epoch 26/100, step 3000/3125, loss = 0.2756\n",
            "epoch 27/100, step 1000/3125, loss = 0.2859\n",
            "epoch 27/100, step 2000/3125, loss = 0.2645\n",
            "epoch 27/100, step 3000/3125, loss = 1.1042\n",
            "epoch 28/100, step 1000/3125, loss = 0.4089\n",
            "epoch 28/100, step 2000/3125, loss = 0.4636\n",
            "epoch 28/100, step 3000/3125, loss = 0.4984\n",
            "epoch 29/100, step 1000/3125, loss = 0.2166\n",
            "epoch 29/100, step 2000/3125, loss = 0.0833\n",
            "epoch 29/100, step 3000/3125, loss = 0.2269\n",
            "epoch 30/100, step 1000/3125, loss = 0.0790\n",
            "epoch 30/100, step 2000/3125, loss = 0.3612\n",
            "epoch 30/100, step 3000/3125, loss = 0.4428\n",
            "epoch 31/100, step 1000/3125, loss = 0.1666\n",
            "epoch 31/100, step 2000/3125, loss = 0.1620\n",
            "epoch 31/100, step 3000/3125, loss = 0.3069\n",
            "epoch 32/100, step 1000/3125, loss = 0.2146\n",
            "epoch 32/100, step 2000/3125, loss = 0.2595\n",
            "epoch 32/100, step 3000/3125, loss = 0.1479\n",
            "epoch 33/100, step 1000/3125, loss = 0.1643\n",
            "epoch 33/100, step 2000/3125, loss = 0.0546\n",
            "epoch 33/100, step 3000/3125, loss = 0.4131\n",
            "epoch 34/100, step 1000/3125, loss = 0.5378\n",
            "epoch 34/100, step 2000/3125, loss = 0.0937\n",
            "epoch 34/100, step 3000/3125, loss = 0.1868\n",
            "epoch 35/100, step 1000/3125, loss = 0.4273\n",
            "epoch 35/100, step 2000/3125, loss = 0.2325\n",
            "epoch 35/100, step 3000/3125, loss = 0.0972\n",
            "epoch 36/100, step 1000/3125, loss = 0.3111\n",
            "epoch 36/100, step 2000/3125, loss = 0.0999\n",
            "epoch 36/100, step 3000/3125, loss = 0.2818\n",
            "epoch 37/100, step 1000/3125, loss = 0.1653\n",
            "epoch 37/100, step 2000/3125, loss = 0.2569\n",
            "epoch 37/100, step 3000/3125, loss = 0.1359\n",
            "epoch 38/100, step 1000/3125, loss = 0.1024\n",
            "epoch 38/100, step 2000/3125, loss = 0.0700\n",
            "epoch 38/100, step 3000/3125, loss = 0.1813\n",
            "epoch 39/100, step 1000/3125, loss = 0.1890\n",
            "epoch 39/100, step 2000/3125, loss = 0.3713\n",
            "epoch 39/100, step 3000/3125, loss = 0.1124\n",
            "epoch 40/100, step 1000/3125, loss = 0.0870\n",
            "epoch 40/100, step 2000/3125, loss = 0.8679\n",
            "epoch 40/100, step 3000/3125, loss = 0.1035\n",
            "epoch 41/100, step 1000/3125, loss = 0.1278\n",
            "epoch 41/100, step 2000/3125, loss = 0.0729\n",
            "epoch 41/100, step 3000/3125, loss = 0.0455\n",
            "epoch 42/100, step 1000/3125, loss = 0.2641\n",
            "epoch 42/100, step 2000/3125, loss = 0.1549\n",
            "epoch 42/100, step 3000/3125, loss = 0.1542\n",
            "epoch 43/100, step 1000/3125, loss = 0.2376\n",
            "epoch 43/100, step 2000/3125, loss = 0.4883\n",
            "epoch 43/100, step 3000/3125, loss = 0.1618\n",
            "epoch 44/100, step 1000/3125, loss = 0.1925\n",
            "epoch 44/100, step 2000/3125, loss = 0.3743\n",
            "epoch 44/100, step 3000/3125, loss = 0.1388\n",
            "epoch 45/100, step 1000/3125, loss = 0.4262\n",
            "epoch 45/100, step 2000/3125, loss = 0.1826\n",
            "epoch 45/100, step 3000/3125, loss = 0.3707\n",
            "epoch 46/100, step 1000/3125, loss = 0.0553\n",
            "epoch 46/100, step 2000/3125, loss = 0.3166\n",
            "epoch 46/100, step 3000/3125, loss = 0.2016\n",
            "epoch 47/100, step 1000/3125, loss = 0.2583\n",
            "epoch 47/100, step 2000/3125, loss = 0.0558\n",
            "epoch 47/100, step 3000/3125, loss = 0.1977\n",
            "epoch 48/100, step 1000/3125, loss = 0.1904\n",
            "epoch 48/100, step 2000/3125, loss = 0.3024\n",
            "epoch 48/100, step 3000/3125, loss = 0.2839\n",
            "epoch 49/100, step 1000/3125, loss = 0.0855\n",
            "epoch 49/100, step 2000/3125, loss = 0.1099\n",
            "epoch 49/100, step 3000/3125, loss = 0.0588\n",
            "epoch 50/100, step 1000/3125, loss = 0.0858\n",
            "epoch 50/100, step 2000/3125, loss = 0.0995\n",
            "epoch 50/100, step 3000/3125, loss = 0.0478\n",
            "epoch 51/100, step 1000/3125, loss = 0.4221\n",
            "epoch 51/100, step 2000/3125, loss = 0.2375\n",
            "epoch 51/100, step 3000/3125, loss = 0.0917\n",
            "epoch 52/100, step 1000/3125, loss = 0.0201\n",
            "epoch 52/100, step 2000/3125, loss = 0.0553\n",
            "epoch 52/100, step 3000/3125, loss = 0.1497\n",
            "epoch 53/100, step 1000/3125, loss = 0.0969\n",
            "epoch 53/100, step 2000/3125, loss = 0.0323\n",
            "epoch 53/100, step 3000/3125, loss = 0.1185\n",
            "epoch 54/100, step 1000/3125, loss = 0.0327\n",
            "epoch 54/100, step 2000/3125, loss = 0.0874\n",
            "epoch 54/100, step 3000/3125, loss = 0.0133\n",
            "epoch 55/100, step 1000/3125, loss = 0.3270\n",
            "epoch 55/100, step 2000/3125, loss = 0.2645\n",
            "epoch 55/100, step 3000/3125, loss = 0.0889\n",
            "epoch 56/100, step 1000/3125, loss = 0.1813\n",
            "epoch 56/100, step 2000/3125, loss = 0.1481\n",
            "epoch 56/100, step 3000/3125, loss = 0.1277\n",
            "epoch 57/100, step 1000/3125, loss = 0.0501\n",
            "epoch 57/100, step 2000/3125, loss = 0.0599\n",
            "epoch 57/100, step 3000/3125, loss = 0.3172\n",
            "epoch 58/100, step 1000/3125, loss = 0.0011\n",
            "epoch 58/100, step 2000/3125, loss = 0.1708\n",
            "epoch 58/100, step 3000/3125, loss = 0.1331\n",
            "epoch 59/100, step 1000/3125, loss = 0.0252\n",
            "epoch 59/100, step 2000/3125, loss = 0.1341\n",
            "epoch 59/100, step 3000/3125, loss = 0.2445\n",
            "epoch 60/100, step 1000/3125, loss = 0.1069\n",
            "epoch 60/100, step 2000/3125, loss = 0.0611\n",
            "epoch 60/100, step 3000/3125, loss = 0.1509\n",
            "epoch 61/100, step 1000/3125, loss = 0.5491\n",
            "epoch 61/100, step 2000/3125, loss = 0.3972\n",
            "epoch 61/100, step 3000/3125, loss = 0.0030\n",
            "epoch 62/100, step 1000/3125, loss = 0.0879\n",
            "epoch 62/100, step 2000/3125, loss = 0.0290\n",
            "epoch 62/100, step 3000/3125, loss = 0.1101\n",
            "epoch 63/100, step 1000/3125, loss = 0.0833\n",
            "epoch 63/100, step 2000/3125, loss = 0.0296\n",
            "epoch 63/100, step 3000/3125, loss = 0.2859\n",
            "epoch 64/100, step 1000/3125, loss = 0.1660\n",
            "epoch 64/100, step 2000/3125, loss = 0.2662\n",
            "epoch 64/100, step 3000/3125, loss = 0.0499\n",
            "epoch 65/100, step 1000/3125, loss = 0.0476\n",
            "epoch 65/100, step 2000/3125, loss = 0.0700\n",
            "epoch 65/100, step 3000/3125, loss = 0.3970\n",
            "epoch 66/100, step 1000/3125, loss = 0.3191\n",
            "epoch 66/100, step 2000/3125, loss = 0.0146\n",
            "epoch 66/100, step 3000/3125, loss = 0.0078\n",
            "epoch 67/100, step 1000/3125, loss = 0.0460\n",
            "epoch 67/100, step 2000/3125, loss = 0.0224\n",
            "epoch 67/100, step 3000/3125, loss = 0.0442\n",
            "epoch 68/100, step 1000/3125, loss = 0.0510\n",
            "epoch 68/100, step 2000/3125, loss = 0.0708\n",
            "epoch 68/100, step 3000/3125, loss = 0.0534\n",
            "epoch 69/100, step 1000/3125, loss = 0.3917\n",
            "epoch 69/100, step 2000/3125, loss = 0.0971\n",
            "epoch 69/100, step 3000/3125, loss = 0.0124\n",
            "epoch 70/100, step 1000/3125, loss = 0.0651\n",
            "epoch 70/100, step 2000/3125, loss = 0.0305\n",
            "epoch 70/100, step 3000/3125, loss = 0.0086\n",
            "epoch 71/100, step 1000/3125, loss = 0.1129\n",
            "epoch 71/100, step 2000/3125, loss = 0.0374\n",
            "epoch 71/100, step 3000/3125, loss = 0.1215\n",
            "epoch 72/100, step 1000/3125, loss = 0.0606\n",
            "epoch 72/100, step 2000/3125, loss = 0.0229\n",
            "epoch 72/100, step 3000/3125, loss = 0.0650\n",
            "epoch 73/100, step 1000/3125, loss = 0.2551\n",
            "epoch 73/100, step 2000/3125, loss = 0.0028\n",
            "epoch 73/100, step 3000/3125, loss = 0.1023\n",
            "epoch 74/100, step 1000/3125, loss = 0.0029\n",
            "epoch 74/100, step 2000/3125, loss = 0.7929\n",
            "epoch 74/100, step 3000/3125, loss = 0.0797\n",
            "epoch 75/100, step 1000/3125, loss = 0.0390\n",
            "epoch 75/100, step 2000/3125, loss = 0.0033\n",
            "epoch 75/100, step 3000/3125, loss = 0.0600\n",
            "epoch 76/100, step 1000/3125, loss = 0.0470\n",
            "epoch 76/100, step 2000/3125, loss = 0.0260\n",
            "epoch 76/100, step 3000/3125, loss = 0.0747\n",
            "epoch 77/100, step 1000/3125, loss = 0.0197\n",
            "epoch 77/100, step 2000/3125, loss = 0.0099\n",
            "epoch 77/100, step 3000/3125, loss = 0.0091\n",
            "epoch 78/100, step 1000/3125, loss = 0.0420\n",
            "epoch 78/100, step 2000/3125, loss = 0.0133\n",
            "epoch 78/100, step 3000/3125, loss = 0.1132\n",
            "epoch 79/100, step 1000/3125, loss = 0.0009\n",
            "epoch 79/100, step 2000/3125, loss = 0.1701\n",
            "epoch 79/100, step 3000/3125, loss = 0.2516\n",
            "epoch 80/100, step 1000/3125, loss = 0.0125\n",
            "epoch 80/100, step 2000/3125, loss = 0.4204\n",
            "epoch 80/100, step 3000/3125, loss = 0.2950\n",
            "epoch 81/100, step 1000/3125, loss = 0.0454\n",
            "epoch 81/100, step 2000/3125, loss = 0.2881\n",
            "epoch 81/100, step 3000/3125, loss = 0.1223\n",
            "epoch 82/100, step 1000/3125, loss = 0.0263\n",
            "epoch 82/100, step 2000/3125, loss = 0.0277\n",
            "epoch 82/100, step 3000/3125, loss = 0.2149\n",
            "epoch 83/100, step 1000/3125, loss = 0.0450\n",
            "epoch 83/100, step 2000/3125, loss = 0.2343\n",
            "epoch 83/100, step 3000/3125, loss = 0.2820\n",
            "epoch 84/100, step 1000/3125, loss = 0.0326\n",
            "epoch 84/100, step 2000/3125, loss = 0.1265\n",
            "epoch 84/100, step 3000/3125, loss = 0.1054\n",
            "epoch 85/100, step 1000/3125, loss = 0.1687\n",
            "epoch 85/100, step 2000/3125, loss = 0.0695\n",
            "epoch 85/100, step 3000/3125, loss = 0.2072\n",
            "epoch 86/100, step 1000/3125, loss = 0.0617\n",
            "epoch 86/100, step 2000/3125, loss = 0.1608\n",
            "epoch 86/100, step 3000/3125, loss = 0.0574\n",
            "epoch 87/100, step 1000/3125, loss = 0.1073\n",
            "epoch 87/100, step 2000/3125, loss = 0.0218\n",
            "epoch 87/100, step 3000/3125, loss = 0.0202\n",
            "epoch 88/100, step 1000/3125, loss = 0.0208\n",
            "epoch 88/100, step 2000/3125, loss = 0.1258\n",
            "epoch 88/100, step 3000/3125, loss = 0.0134\n",
            "epoch 89/100, step 1000/3125, loss = 0.1374\n",
            "epoch 89/100, step 2000/3125, loss = 0.0002\n",
            "epoch 89/100, step 3000/3125, loss = 0.0437\n",
            "epoch 90/100, step 1000/3125, loss = 0.8358\n",
            "epoch 90/100, step 2000/3125, loss = 0.2154\n",
            "epoch 90/100, step 3000/3125, loss = 0.2161\n",
            "epoch 91/100, step 1000/3125, loss = 0.0037\n",
            "epoch 91/100, step 2000/3125, loss = 0.0299\n",
            "epoch 91/100, step 3000/3125, loss = 0.0777\n",
            "epoch 92/100, step 1000/3125, loss = 0.0116\n",
            "epoch 92/100, step 2000/3125, loss = 0.0602\n",
            "epoch 92/100, step 3000/3125, loss = 0.0979\n",
            "epoch 93/100, step 1000/3125, loss = 0.0033\n",
            "epoch 93/100, step 2000/3125, loss = 0.0317\n",
            "epoch 93/100, step 3000/3125, loss = 0.0030\n",
            "epoch 94/100, step 1000/3125, loss = 0.0039\n",
            "epoch 94/100, step 2000/3125, loss = 0.1785\n",
            "epoch 94/100, step 3000/3125, loss = 0.0787\n",
            "epoch 95/100, step 1000/3125, loss = 0.3027\n",
            "epoch 95/100, step 2000/3125, loss = 0.2379\n",
            "epoch 95/100, step 3000/3125, loss = 0.0075\n",
            "epoch 96/100, step 1000/3125, loss = 0.0336\n",
            "epoch 96/100, step 2000/3125, loss = 0.3254\n",
            "epoch 96/100, step 3000/3125, loss = 0.6000\n",
            "epoch 97/100, step 1000/3125, loss = 0.0028\n",
            "epoch 97/100, step 2000/3125, loss = 0.1297\n",
            "epoch 97/100, step 3000/3125, loss = 0.0108\n",
            "epoch 98/100, step 1000/3125, loss = 0.1383\n",
            "epoch 98/100, step 2000/3125, loss = 0.0129\n",
            "epoch 98/100, step 3000/3125, loss = 0.1456\n",
            "epoch 99/100, step 1000/3125, loss = 0.0053\n",
            "epoch 99/100, step 2000/3125, loss = 0.0051\n",
            "epoch 99/100, step 3000/3125, loss = 0.0131\n",
            "epoch 100/100, step 1000/3125, loss = 0.4874\n",
            "epoch 100/100, step 2000/3125, loss = 0.3180\n",
            "epoch 100/100, step 3000/3125, loss = 0.0699\n",
            "Finished Training\n"
          ]
        }
      ]
    },
    {
      "cell_type": "code",
      "source": [
        "#test\n",
        "with torch.no_grad():\n",
        "  n_samples = 0\n",
        "  n_correct = 0\n",
        "  n_class_samples = [0 for i in range(10)]\n",
        "  n_class_correct = [0 for i in range(10)]\n",
        "  for images, labels in test_loader:\n",
        "    images = images.to(device)\n",
        "    labels = labels.to(device)\n",
        "    outputs = model(images)\n",
        "    \n",
        "    # max return (value, index)\n",
        "    _, predictions = torch.max(outputs, 1)\n",
        "    n_samples += labels.shape[0]\n",
        "    n_correct += (predictions == labels).sum().item()\n",
        "\n",
        "    # calculating accuracy of each class\n",
        "    for i in range(batch_size):\n",
        "      label = labels[i]\n",
        "      pred = predictions[i]\n",
        "      if label == pred:\n",
        "        n_class_correct[label] += 1\n",
        "      n_class_samples[label] += 1\n",
        "\n",
        "acc = 100 * n_correct / n_samples\n",
        "print(f'test_accuracy {acc} %')\n",
        "\n",
        "for i in range(10):\n",
        "  acc = 100 * n_class_correct[i] / n_class_samples[i]\n",
        "  print(f'Accuracy of class {classes[i]}: {acc} %')"
      ],
      "metadata": {
        "colab": {
          "base_uri": "https://localhost:8080/"
        },
        "id": "FKVqWPoh51Lq",
        "outputId": "0c751f39-55ee-46d1-8d2c-41fc12ebb225"
      },
      "execution_count": null,
      "outputs": [
        {
          "output_type": "stream",
          "name": "stdout",
          "text": [
            "test_accuracy 79.41 %\n",
            "Accuracy of class plane: 83.0 %\n",
            "Accuracy of class car: 87.0 %\n",
            "Accuracy of class bird: 70.1 %\n",
            "Accuracy of class cat: 67.1 %\n",
            "Accuracy of class deer: 76.6 %\n",
            "Accuracy of class dog: 72.6 %\n",
            "Accuracy of class frog: 79.4 %\n",
            "Accuracy of class horse: 82.7 %\n",
            "Accuracy of class ship: 88.6 %\n",
            "Accuracy of class truck: 87.0 %\n"
          ]
        }
      ]
    },
    {
      "cell_type": "code",
      "source": [
        "# test the network\n",
        "test_examples = iter(test_loader)\n",
        "images, labels = test_examples.next()\n",
        "\n",
        "# print images\n",
        "imshow(torchvision.utils.make_grid(images))\n",
        "print('GroundTruth: ', ', '.join(f'{classes[labels[j]]}' for j in range(batch_size)))\n",
        "\n",
        "images = images.to(device)\n",
        "labels = labels.to(device)\n",
        "\n",
        "outputs = model(images)\n",
        "_, predictions = torch.max(outputs, 1)\n",
        "\n",
        "print('Prediction: ', ', '.join(f'{classes[predictions[j]]}' for j in range(batch_size)))"
      ],
      "metadata": {
        "colab": {
          "base_uri": "https://localhost:8080/",
          "height": 71
        },
        "id": "EZDJ2wtT8fGI",
        "outputId": "f239a668-9ebd-4fa1-94e6-950dcf4949f2"
      },
      "execution_count": null,
      "outputs": [
        {
          "output_type": "display_data",
          "data": {
            "image/png": "[encoded data removed]",
            "text/plain": [
              "<Figure size 432x288 with 1 Axes>"
            ]
          },
          "metadata": {
            "needs_background": "light"
          }
        },
        {
          "output_type": "stream",
          "name": "stdout",
          "text": [
            "GroundTruth:  cat, ship, ship, plane, frog, frog, car, frog, cat, car, plane, truck, dog, horse, truck, ship\n",
            "Prediction:  cat, ship, ship, ship, frog, frog, car, bird, cat, car, plane, truck, dog, horse, truck, ship\n"
          ]
        }
      ]
    }
  ]
}